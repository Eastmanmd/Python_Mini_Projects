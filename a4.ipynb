{
 "cells": [
  {
   "cell_type": "markdown",
   "metadata": {},
   "source": [
    "Name: Ali Oku <br>\n",
    "Z-ID: Z1893417 <br>\n",
    "Assignment 4 <br>"
   ]
  },
  {
   "cell_type": "code",
   "execution_count": 1,
   "metadata": {},
   "outputs": [
    {
     "data": {
      "text/plain": [
       "('illinois-climate-monthly.txt', <http.client.HTTPMessage at 0x7fd4c04deb20>)"
      ]
     },
     "execution_count": 1,
     "metadata": {},
     "output_type": "execute_result"
    }
   ],
   "source": [
    "# Do not modify this cell, just run it to download the file\n",
    "\n",
    "from urllib.request import urlretrieve\n",
    "\n",
    "url = \"http://faculty.cs.niu.edu/~dakoop/cs503-2021sp/a4/illinois-climate-monthly.txt\"\n",
    "local_fname = \"illinois-climate-monthly.txt\"\n",
    "urlretrieve(url, local_fname)"
   ]
  },
  {
   "cell_type": "markdown",
   "metadata": {},
   "source": [
    "1. Read Data (15 pts)"
   ]
  },
  {
   "cell_type": "code",
   "execution_count": 2,
   "metadata": {},
   "outputs": [],
   "source": [
    "all_lines = open('illinois-climate-monthly.txt', encoding='utf-8-sig').readlines()\n",
    "header_line = all_lines[0].strip()\n",
    "header_line = [name.strip() for name in all_lines[0].strip().split()]\n",
    "data = []\n",
    "for i in range (1,len(all_lines)):\n",
    "    my_dict = dict(zip(header_line,all_lines[i].split()))\n",
    "    data.append(my_dict)  \n"
   ]
  },
  {
   "cell_type": "markdown",
   "metadata": {},
   "source": [
    "2. Split Year and Month (5 pts)"
   ]
  },
  {
   "cell_type": "code",
   "execution_count": 3,
   "metadata": {},
   "outputs": [],
   "source": [
    "for item in data:\n",
    "    item['Year'] = item[\"YearMonth\"][0:4]\n",
    "    item['Month'] = item[\"YearMonth\"][4:]"
   ]
  },
  {
   "cell_type": "markdown",
   "metadata": {},
   "source": [
    "3. Compute Yearly Values (15 pts)"
   ]
  },
  {
   "cell_type": "code",
   "execution_count": 4,
   "metadata": {},
   "outputs": [],
   "source": [
    "year_data = []\n",
    "list_of_years = sorted(list({item['Year'] for item in data}))\n",
    "keys_dict = [\"Year\", \"PCP\", \"TAVG\", \"PSDI\"]\n",
    "\n",
    "for year in list_of_years:\n",
    "    mydict = []\n",
    "    mydict.append(year)\n",
    "    mydict.append(sum([float(item['PCP'])for item in data if item['Year'] == year ]))\n",
    "    list_TAVG = [float(item[\"TAVG\"]) for item in data if item['Year']== year]\n",
    "    mydict.append(sum(list_TAVG)/len(list_TAVG))\n",
    "    list_PDSI = [float(item[\"PDSI\"]) for item in data if item['Year']== year]\n",
    "    mydict.append(sum(list_PDSI)/len(list_PDSI))\n",
    "    year_data.append(dict(zip(keys_dict,mydict)))"
   ]
  },
  {
   "cell_type": "markdown",
   "metadata": {},
   "source": [
    "4. Write Output (20 pts)"
   ]
  },
  {
   "cell_type": "code",
   "execution_count": 5,
   "metadata": {},
   "outputs": [],
   "source": [
    "with open('illinois-climate-yearly.txt', 'w') as f:\n",
    "    f.write(\"Year\" + f'{\"PCP\":>7}' + f'{\"TAVG\":>7}' + f'{\"PDSI\":>7}' + \"\\n\")\n",
    "    for years in year_data:\n",
    "        for key, values in years.items():\n",
    "            if key == \"Year\":\n",
    "                f.write(values)\n",
    "            elif key == \"PCP\":\n",
    "                f.write(('{:7.2f}'.format(round(values,2))))\n",
    "            elif key == \"TAVG\":\n",
    "                f.write(f'{str(round(values,1)):>7}')\n",
    "            else:\n",
    "                temp_PSDI = '{:.2f}'.format(round(values,2))\n",
    "                if temp_PSDI[0] == \"0\":\n",
    "                    f.write(f'{temp_PSDI.lstrip(\"0\"):>7}' + \"\\n\")  \n",
    "                elif temp_PSDI[0:2] == \"-0\":\n",
    "                    temp_PSDI = \"-\" + temp_PSDI.lstrip(\"-0\") \n",
    "                    f.write(f'{temp_PSDI:>7}' + \"\\n\")\n",
    "                else:\n",
    "                    f.write(f'{temp_PSDI:>7}' + \"\\n\") "
   ]
  }
 ],
 "metadata": {
  "kernelspec": {
   "display_name": "Python 3.8",
   "language": "python",
   "name": "python3"
  },
  "language_info": {
   "codemirror_mode": {
    "name": "ipython",
    "version": 3
   },
   "file_extension": ".py",
   "mimetype": "text/x-python",
   "name": "python",
   "nbconvert_exporter": "python",
   "pygments_lexer": "ipython3",
   "version": "3.8.5"
  }
 },
 "nbformat": 4,
 "nbformat_minor": 4
}
