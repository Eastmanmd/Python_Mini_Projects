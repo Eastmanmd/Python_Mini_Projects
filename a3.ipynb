{
 "cells": [
  {
   "cell_type": "markdown",
   "metadata": {},
   "source": [
    "# Assignment 3 (Name, Z-ID)"
   ]
  },
  {
   "cell_type": "raw",
   "metadata": {},
   "source": [
    "Name: Ali Oku <br>\n",
    "Z-ID: Z1893417 <br>\n",
    "Assignment 2 <br>"
   ]
  },
  {
   "cell_type": "code",
   "execution_count": 1,
   "metadata": {},
   "outputs": [],
   "source": [
    "# Do not modify this cell, just run it to download and load the dataset\n",
    "\n",
    "import os\n",
    "import json\n",
    "from urllib.request import urlretrieve\n",
    "\n",
    "# download the data if we don't have it locally\n",
    "url = \"http://faculty.cs.niu.edu/~dakoop/cs503-2021sp/a3/pokemon.json\"\n",
    "local_fname = \"pokemon.json\"\n",
    "if not os.path.exists(local_fname):\n",
    "    urlretrieve(url, local_fname)\n",
    "\n",
    "data = json.load(open(local_fname));"
   ]
  },
  {
   "cell_type": "markdown",
   "metadata": {},
   "source": [
    "1. Minimum Hit Points (10 pts)"
   ]
  },
  {
   "cell_type": "code",
   "execution_count": 2,
   "metadata": {},
   "outputs": [
    {
     "data": {
      "text/plain": [
       "'Shedinja'"
      ]
     },
     "execution_count": 2,
     "metadata": {},
     "output_type": "execute_result"
    }
   ],
   "source": [
    "min_hp = data[0]['hp'] #set minimum hp to first pokemon in the list \n",
    "min_pokemon2 = data[0]['name']\n",
    "for pokemon in data:\n",
    "    if pokemon['hp'] < min_hp:\n",
    "        min_hp = pokemon['hp']\n",
    "        min_pokemon = pokemon['name']\n",
    "        \n",
    "min_pokemon"
   ]
  },
  {
   "cell_type": "markdown",
   "metadata": {},
   "source": [
    "2. Generation Counts (10 pts)"
   ]
  },
  {
   "cell_type": "code",
   "execution_count": 3,
   "metadata": {},
   "outputs": [
    {
     "data": {
      "text/plain": [
       "{1: 192, 2: 107, 3: 165, 4: 121, 5: 171, 6: 85, 7: 99, 8: 88}"
      ]
     },
     "execution_count": 3,
     "metadata": {},
     "output_type": "execute_result"
    }
   ],
   "source": [
    "generation_counts = {}\n",
    "for pokemon in data:\n",
    "    if pokemon[\"generation\"] in generation_counts:\n",
    "        generation_counts[pokemon[\"generation\"]]+= 1\n",
    "    else:\n",
    "        generation_counts[pokemon[\"generation\"]] = 1\n",
    "generation_counts"
   ]
  },
  {
   "cell_type": "markdown",
   "metadata": {},
   "source": [
    "3. Mean Weights by Primary Type (15 pts)"
   ]
  },
  {
   "cell_type": "code",
   "execution_count": 4,
   "metadata": {},
   "outputs": [
    {
     "data": {
      "text/plain": [
       "{'Grass': 39.83956043956042,\n",
       " 'Fire': 65.02000000000001,\n",
       " 'Water': 58.225373134328365,\n",
       " 'Bug': 33.95432098765432,\n",
       " 'Normal': 43.49130434782609,\n",
       " 'Dark': 57.58181818181819,\n",
       " 'Poison': 60.176315789473676,\n",
       " 'Electric': 36.070491803278685,\n",
       " 'Ground': 133.38536585365856,\n",
       " 'Ice': 93.18333333333334,\n",
       " 'Fairy': 40.445454545454545,\n",
       " 'Steel': 231.1138888888889,\n",
       " 'Fighting': 79.29210526315791,\n",
       " 'Psychic': 69.93947368421051,\n",
       " 'Rock': 114.48166666666667,\n",
       " 'Ghost': 64.3609756097561,\n",
       " 'Dragon': 125.2875,\n",
       " 'Flying': 41.225}"
      ]
     },
     "execution_count": 4,
     "metadata": {},
     "output_type": "execute_result"
    }
   ],
   "source": [
    "primary_weights = {}\n",
    "for pokemon in data:\n",
    "    if pokemon['weight_kg'] != None:\n",
    "        if pokemon[\"primary_type\"] in primary_weights:\n",
    "            primary_weights[pokemon[\"primary_type\"]].append(pokemon['weight_kg'])\n",
    "        else:\n",
    "            primary_weights[pokemon[\"primary_type\"]]= [pokemon['weight_kg']]\n",
    "            \n",
    "for pokemon_class, list_weights in primary_weights.items():\n",
    "    primary_weights[pokemon_class]= sum(list_weights)/len(list_weights)\n",
    "    \n",
    "\n",
    "primary_weights"
   ]
  },
  {
   "cell_type": "markdown",
   "metadata": {},
   "source": [
    "4. Filter by Hit Points (15 pts)"
   ]
  },
  {
   "cell_type": "code",
   "execution_count": 5,
   "metadata": {},
   "outputs": [
    {
     "data": {
      "text/plain": [
       "[(20.0, 'Duskull'),\n",
       " (20.0, 'Feebas'),\n",
       " (20.0, 'Magikarp'),\n",
       " (20.0, 'Mime Jr.'),\n",
       " (20.0, 'Pichu'),\n",
       " (20.0, 'Shuckle'),\n",
       " (25.0, 'Abra'),\n",
       " (25.0, 'Blipbug'),\n",
       " (25.0, 'Magnemite'),\n",
       " (25.0, 'Wimpod')]"
      ]
     },
     "execution_count": 5,
     "metadata": {},
     "output_type": "execute_result"
    }
   ],
   "source": [
    "def filter_hp(data, min_hp = 1, max_hp = 255):\n",
    "    poke_list = []\n",
    "    for pokemon in data:\n",
    "        if pokemon[\"hp\"] >= min_hp and pokemon[\"hp\"] <= max_hp:\n",
    "            poke_list.append(tuple([pokemon[\"hp\"], pokemon[\"name\"]]))\n",
    "        poke_list.sort()\n",
    "    return poke_list\n",
    "\n",
    "filter_hp(data, 20, 25)    "
   ]
  },
  {
   "cell_type": "markdown",
   "metadata": {},
   "source": [
    "5. Median Attack & Defense by Generation (20 pts)"
   ]
  },
  {
   "cell_type": "code",
   "execution_count": 6,
   "metadata": {},
   "outputs": [
    {
     "data": {
      "text/plain": [
       "[{'generation': 1, 'attack': 75.0, 'defense': 66.0},\n",
       " {'generation': 2, 'attack': 72.0, 'defense': 70.0},\n",
       " {'generation': 3, 'attack': 75.0, 'defense': 70.0},\n",
       " {'generation': 4, 'attack': 80.0, 'defense': 72.0},\n",
       " {'generation': 5, 'attack': 80.0, 'defense': 70.0},\n",
       " {'generation': 6, 'attack': 70.0, 'defense': 70.0},\n",
       " {'generation': 7, 'attack': 82.0, 'defense': 75.0},\n",
       " {'generation': 8, 'attack': 82.5, 'defense': 69.5}]"
      ]
     },
     "execution_count": 6,
     "metadata": {},
     "output_type": "execute_result"
    }
   ],
   "source": [
    "gen_atk_def = [] #creates empty list\n",
    "gen_atk_track = {} #keeps track of generation entries\n",
    "gen_def_track = {} \n",
    "#make dictionaries for each generation \n",
    "for pokemon in data:\n",
    "    if pokemon[\"generation\"] in gen_atk_track:\n",
    "        gen_atk_track[pokemon[\"generation\"]].append(pokemon[\"attack\"])\n",
    "        gen_def_track[pokemon[\"generation\"]].append(pokemon[\"defense\"])\n",
    "        \n",
    "    else:\n",
    "        gen_atk_track[pokemon[\"generation\"]] = list([pokemon[\"attack\"]])\n",
    "        gen_def_track[pokemon[\"generation\"]] = list([pokemon[\"defense\"]])\n",
    "    \n",
    "\n",
    "for k, v in gen_atk_track.items():\n",
    "    v.sort()\n",
    "    if len(v) % 2 != 0:\n",
    "        gen_atk_track[k] = v[len(v) // 2]\n",
    "    else:\n",
    "        gen_atk_track[k] = ((v[len(v) // 2]) + (v[(len(v) // 2) - 1]))/2 \n",
    "        \n",
    "for k, v in gen_def_track.items():\n",
    "    v.sort()\n",
    "    if len(v) % 2 != 0:\n",
    "        gen_def_track[k] = v[len(v) // 2]\n",
    "    else:\n",
    "        gen_def_track[k] = ((v[len(v) // 2]) + (v[(len(v) // 2) - 1]))/2 \n",
    "\n",
    "for k, v in gen_atk_track.items():\n",
    "    mydict = {}\n",
    "    mydict[\"generation\"] = k\n",
    "    mydict[\"attack\"] = gen_atk_track[k]\n",
    "    mydict[\"defense\"] = gen_def_track[k]\n",
    "    \n",
    "    gen_atk_def.append(mydict)\n",
    "\n",
    "gen_atk_def        "
   ]
  }
 ],
 "metadata": {
  "kernelspec": {
   "display_name": "Python 3.8",
   "language": "python",
   "name": "python3"
  },
  "language_info": {
   "codemirror_mode": {
    "name": "ipython",
    "version": 3
   },
   "file_extension": ".py",
   "mimetype": "text/x-python",
   "name": "python",
   "nbconvert_exporter": "python",
   "pygments_lexer": "ipython3",
   "version": "3.8.5"
  }
 },
 "nbformat": 4,
 "nbformat_minor": 4
}
