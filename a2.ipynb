{
 "cells": [
  {
   "cell_type": "markdown",
   "metadata": {},
   "source": [
    "Name: Ali Oku <br>\n",
    "Z-ID: Z1893417 <br>\n",
    "Assignment 2 <br>"
   ]
  },
  {
   "cell_type": "markdown",
   "metadata": {},
   "source": [
    "1. The 7n +/- 1 Function (15 pts)"
   ]
  },
  {
   "cell_type": "code",
   "execution_count": 4,
   "metadata": {},
   "outputs": [
    {
     "name": "stdout",
     "output_type": "stream",
     "text": [
      "1\n",
      "2, 1\n",
      "3, 20, 10, 5, 36, 18, 9, 64, 32, 16, 8, 4, 2, 1\n",
      "4, 2, 1\n",
      "5, 36, 18, 9, 64, 32, 16, 8, 4, 2, 1\n",
      "6, 3, 20, 10, 5, 36, 18, 9, 64, 32, 16, 8, 4, 2, 1\n",
      "7, 48, 24, 12, 6, 3, 20, 10, 5, 36, 18, 9, 64, 32, 16, 8, 4, 2, 1\n",
      "8, 4, 2, 1\n",
      "9, 64, 32, 16, 8, 4, 2, 1\n",
      "10, 5, 36, 18, 9, 64, 32, 16, 8, 4, 2, 1\n",
      "11, 76, 38, 19, 132, 66, 33, 232, 116, 58, 29, 204, 102, 51, 356, 178, 89, 624, 312, 156, 78, 39, 272, 136, 68, 34, 17, 120, 60, 30, 15, 104, 52, 26, 13, 92, 46, 23, 160, 80, 40, 20, 10, 5, 36, 18, 9, 64, 32, 16, 8, 4, 2, 1\n",
      "12, 6, 3, 20, 10, 5, 36, 18, 9, 64, 32, 16, 8, 4, 2, 1\n",
      "13, 92, 46, 23, 160, 80, 40, 20, 10, 5, 36, 18, 9, 64, 32, 16, 8, 4, 2, 1\n",
      "14, 7, 48, 24, 12, 6, 3, 20, 10, 5, 36, 18, 9, 64, 32, 16, 8, 4, 2, 1\n",
      "15, 104, 52, 26, 13, 92, 46, 23, 160, 80, 40, 20, 10, 5, 36, 18, 9, 64, 32, 16, 8, 4, 2, 1\n",
      "16, 8, 4, 2, 1\n",
      "17, 120, 60, 30, 15, 104, 52, 26, 13, 92, 46, 23, 160, 80, 40, 20, 10, 5, 36, 18, 9, 64, 32, 16, 8, 4, 2, 1\n",
      "18, 9, 64, 32, 16, 8, 4, 2, 1\n",
      "19, 132, 66, 33, 232, 116, 58, 29, 204, 102, 51, 356, 178, 89, 624, 312, 156, 78, 39, 272, 136, 68, 34, 17, 120, 60, 30, 15, 104, 52, 26, 13, 92, 46, 23, 160, 80, 40, 20, 10, 5, 36, 18, 9, 64, 32, 16, 8, 4, 2, 1\n",
      "20, 10, 5, 36, 18, 9, 64, 32, 16, 8, 4, 2, 1\n"
     ]
    }
   ],
   "source": [
    "def orbit(n):\n",
    "    \"\"\" a function to print solutions to  7x +/- 1 function orbit by David Barina \"\"\"\n",
    "    store = str(n)\n",
    "    while n > 1:\n",
    "        if n % 2 == 0:\n",
    "            n = n/2\n",
    "            store = store + \", \" + str(int(n))\n",
    "        elif (n - 1) % 4 == 0:\n",
    "            n = (7 * n)+ 1\n",
    "            store = store + \", \" + str(int(n))\n",
    "        elif (n - 3) % 4 == 0:\n",
    "            n = (7 * n)- 1\n",
    "            store = store + \", \" + str(int(n))\n",
    "    return (store)\n",
    "\n",
    "for i in range (1, 21):\n",
    "    print(orbit(i))"
   ]
  },
  {
   "cell_type": "markdown",
   "metadata": {},
   "source": [
    "2. Stopping Time (10 pts)"
   ]
  },
  {
   "cell_type": "code",
   "execution_count": 5,
   "metadata": {},
   "outputs": [
    {
     "name": "stdout",
     "output_type": "stream",
     "text": [
      "1: 0\n",
      "2: 1\n",
      "3: 13\n",
      "4: 2\n",
      "5: 10\n",
      "6: 14\n",
      "7: 18\n",
      "8: 3\n",
      "9: 7\n",
      "10: 11\n",
      "11: 53\n",
      "12: 15\n",
      "13: 19\n",
      "14: 19\n",
      "15: 23\n",
      "16: 4\n",
      "17: 27\n",
      "18: 8\n",
      "19: 50\n",
      "20: 12\n"
     ]
    }
   ],
   "source": [
    "def stopping_time(n):\n",
    "    \"\"\" a function to print solutions to  7x +/- 1 function orbit by David Barina \"\"\"\n",
    "    count = 0\n",
    "    while n > 1:\n",
    "        if n % 2 == 0:\n",
    "            n = n/2\n",
    "            count += 1\n",
    "        elif (n - 1) % 4 == 0:\n",
    "            n = (7 * n)+ 1\n",
    "            count += 1\n",
    "        elif (n - 3) % 4 == 0:\n",
    "            n = (7 * n)- 1\n",
    "            count += 1\n",
    "    return count\n",
    "\n",
    "for i in range (1, 21):\n",
    "    print(str(i) + ':', stopping_time(i))"
   ]
  },
  {
   "cell_type": "markdown",
   "metadata": {},
   "source": [
    "3. Longest Progression (15 pts)"
   ]
  },
  {
   "cell_type": "code",
   "execution_count": 3,
   "metadata": {},
   "outputs": [
    {
     "name": "stdout",
     "output_type": "stream",
     "text": [
      "(7, 18)\n",
      "(11, 53)\n",
      "(21, 73)\n",
      "(35, 325)\n",
      "(35, 325)\n",
      "(35, 325)\n",
      "(70, 326)\n",
      "(70, 326)\n",
      "(70, 326)\n",
      "(70, 326)\n"
     ]
    }
   ],
   "source": [
    "def longest_progression(m):\n",
    "    num_max_time = 0\n",
    "    max_stop_time = 0\n",
    "    if m == 1:\n",
    "        num_max_time = m\n",
    "    for i in range(1, (m+1)):\n",
    "        if (output:= stopping_time(i)) > max_stop_time:\n",
    "            max_stop_time = output\n",
    "            num_max_time = i\n",
    "    return num_max_time, max_stop_time\n",
    "\n",
    "for i in range (10, 110, 10):\n",
    "    print (longest_progression(i))   \n"
   ]
  }
 ],
 "metadata": {
  "kernelspec": {
   "display_name": "Python 3.8",
   "language": "python",
   "name": "python3"
  },
  "language_info": {
   "codemirror_mode": {
    "name": "ipython",
    "version": 3
   },
   "file_extension": ".py",
   "mimetype": "text/x-python",
   "name": "python",
   "nbconvert_exporter": "python",
   "pygments_lexer": "ipython3",
   "version": "3.8.5"
  }
 },
 "nbformat": 4,
 "nbformat_minor": 4
}
