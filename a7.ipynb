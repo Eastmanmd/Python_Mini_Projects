{
 "cells": [
  {
   "cell_type": "markdown",
   "metadata": {},
   "source": [
    "**Name: Ali Oku <br>\n",
    "Z-ID: Z1893417 <br>\n",
    "Assignment 7<br>**"
   ]
  },
  {
   "cell_type": "markdown",
   "metadata": {},
   "source": [
    "**Download & Extract Files**"
   ]
  },
  {
   "cell_type": "code",
   "execution_count": 1,
   "metadata": {},
   "outputs": [],
   "source": [
    "import requests\n",
    "import zipfile\n",
    "import pandas as pd\n",
    "import concurrent.futures\n",
    "from pathlib import Path\n",
    "import os"
   ]
  },
  {
   "cell_type": "code",
   "execution_count": 2,
   "metadata": {},
   "outputs": [],
   "source": [
    "if os.path.exists(\"archive.zip\") == False:\n",
    "    r = requests.get(\"http://faculty.cs.niu.edu/~dakoop/cs503-2021sp/a7/archive.zip\")\n",
    "    open('archive.zip', 'wb').write(r.content)\n",
    "        \n",
    "if os.path.exists(\"./grocery-data/\") == False:\n",
    "    with zipfile.ZipFile(\"archive.zip\",\"r\") as zip_ref:\n",
    "        zip_ref.extractall()"
   ]
  },
  {
   "cell_type": "markdown",
   "metadata": {},
   "source": [
    "**Find Matching Files**"
   ]
  },
  {
   "cell_type": "code",
   "execution_count": 3,
   "metadata": {},
   "outputs": [
    {
     "data": {
      "text/plain": [
       "['grocery-data/southeast_2021_03.csv',\n",
       " 'grocery-data/2021-03-nw.csv',\n",
       " 'grocery-data/great-lakes-csv/2021_03.csv',\n",
       " 'grocery-data/alaska/2021/2021-03.csv',\n",
       " 'grocery-data/ne/2021-03.csv']"
      ]
     },
     "execution_count": 3,
     "metadata": {},
     "output_type": "execute_result"
    }
   ],
   "source": [
    "list_of_files = []\n",
    "p = Path('.')\n",
    "for name in p.glob('**/*2021*03*csv'):\n",
    "    list_of_files.append(str(name))\n",
    "\n",
    "list_of_files"
   ]
  },
  {
   "cell_type": "markdown",
   "metadata": {},
   "source": [
    "**Use Threads to Process Files**"
   ]
  },
  {
   "cell_type": "code",
   "execution_count": 4,
   "metadata": {},
   "outputs": [],
   "source": [
    "def process_files(file_list):\n",
    "    list_of_csv = []\n",
    "    \n",
    "    for filepath in file_list:\n",
    "        df = pd.read_csv(filepath)\n",
    "        df = df[df[\"Date\"] == \"2021-03-31\"]\n",
    "        df[\"Filename\"] = filepath\n",
    "        df.set_index(\"Date\")\n",
    "\n",
    "        list_of_csv.append(df)\n",
    "        \n",
    "    return list_of_csv\n",
    "\n",
    "with concurrent.futures.ThreadPoolExecutor(max_workers = 5) as executor:\n",
    "    results = executor.submit(process_files, list_of_files)\n",
    "    \n",
    "pd.concat(results.result()).to_csv(\"2021-03-31-all.csv\", index = False)"
   ]
  }
 ],
 "metadata": {
  "kernelspec": {
   "display_name": "Python 3.8",
   "language": "python",
   "name": "python3"
  },
  "language_info": {
   "codemirror_mode": {
    "name": "ipython",
    "version": 3
   },
   "file_extension": ".py",
   "mimetype": "text/x-python",
   "name": "python",
   "nbconvert_exporter": "python",
   "pygments_lexer": "ipython3",
   "version": "3.8.5"
  },
  "toc-autonumbering": true
 },
 "nbformat": 4,
 "nbformat_minor": 4
}
